{
 "cells": [
  {
   "cell_type": "code",
   "execution_count": 1,
   "metadata": {},
   "outputs": [],
   "source": [
    "!uv pip install -qU altair"
   ]
  },
  {
   "cell_type": "code",
   "execution_count": 2,
   "metadata": {},
   "outputs": [
    {
     "data": {
      "text/html": [
       "\n",
       "<style>\n",
       "  #altair-viz-72747fd5ff1f47848e32b4143e02c6bb.vega-embed {\n",
       "    width: 100%;\n",
       "    display: flex;\n",
       "  }\n",
       "\n",
       "  #altair-viz-72747fd5ff1f47848e32b4143e02c6bb.vega-embed details,\n",
       "  #altair-viz-72747fd5ff1f47848e32b4143e02c6bb.vega-embed details summary {\n",
       "    position: relative;\n",
       "  }\n",
       "</style>\n",
       "<div id=\"altair-viz-72747fd5ff1f47848e32b4143e02c6bb\"></div>\n",
       "<script type=\"text/javascript\">\n",
       "  var VEGA_DEBUG = (typeof VEGA_DEBUG == \"undefined\") ? {} : VEGA_DEBUG;\n",
       "  (function(spec, embedOpt){\n",
       "    let outputDiv = document.currentScript.previousElementSibling;\n",
       "    if (outputDiv.id !== \"altair-viz-72747fd5ff1f47848e32b4143e02c6bb\") {\n",
       "      outputDiv = document.getElementById(\"altair-viz-72747fd5ff1f47848e32b4143e02c6bb\");\n",
       "    }\n",
       "    const paths = {\n",
       "      \"vega\": \"https://cdn.jsdelivr.net/npm/vega@5?noext\",\n",
       "      \"vega-lib\": \"https://cdn.jsdelivr.net/npm/vega-lib?noext\",\n",
       "      \"vega-lite\": \"https://cdn.jsdelivr.net/npm/vega-lite@5.20.1?noext\",\n",
       "      \"vega-embed\": \"https://cdn.jsdelivr.net/npm/vega-embed@6?noext\",\n",
       "    };\n",
       "\n",
       "    function maybeLoadScript(lib, version) {\n",
       "      var key = `${lib.replace(\"-\", \"\")}_version`;\n",
       "      return (VEGA_DEBUG[key] == version) ?\n",
       "        Promise.resolve(paths[lib]) :\n",
       "        new Promise(function(resolve, reject) {\n",
       "          var s = document.createElement('script');\n",
       "          document.getElementsByTagName(\"head\")[0].appendChild(s);\n",
       "          s.async = true;\n",
       "          s.onload = () => {\n",
       "            VEGA_DEBUG[key] = version;\n",
       "            return resolve(paths[lib]);\n",
       "          };\n",
       "          s.onerror = () => reject(`Error loading script: ${paths[lib]}`);\n",
       "          s.src = paths[lib];\n",
       "        });\n",
       "    }\n",
       "\n",
       "    function showError(err) {\n",
       "      outputDiv.innerHTML = `<div class=\"error\" style=\"color:red;\">${err}</div>`;\n",
       "      throw err;\n",
       "    }\n",
       "\n",
       "    function displayChart(vegaEmbed) {\n",
       "      vegaEmbed(outputDiv, spec, embedOpt)\n",
       "        .catch(err => showError(`Javascript Error: ${err.message}<br>This usually means there's a typo in your chart specification. See the javascript console for the full traceback.`));\n",
       "    }\n",
       "\n",
       "    if(typeof define === \"function\" && define.amd) {\n",
       "      requirejs.config({paths});\n",
       "      require([\"vega-embed\"], displayChart, err => showError(`Error loading script: ${err.message}`));\n",
       "    } else {\n",
       "      maybeLoadScript(\"vega\", \"5\")\n",
       "        .then(() => maybeLoadScript(\"vega-lite\", \"5.20.1\"))\n",
       "        .then(() => maybeLoadScript(\"vega-embed\", \"6\"))\n",
       "        .catch(showError)\n",
       "        .then(() => displayChart(vegaEmbed));\n",
       "    }\n",
       "  })({\"config\": {\"view\": {\"continuousWidth\": 300, \"continuousHeight\": 300}}, \"data\": {\"name\": \"data-795ef453b6029125363cf23922332750\"}, \"mark\": {\"type\": \"line\"}, \"encoding\": {\"x\": {\"field\": \"a\", \"type\": \"quantitative\"}, \"y\": {\"field\": \"b\", \"type\": \"quantitative\"}}, \"width\": \"container\", \"$schema\": \"https://vega.github.io/schema/vega-lite/v5.20.1.json\", \"datasets\": {\"data-795ef453b6029125363cf23922332750\": [{\"a\": 1, \"b\": 1}, {\"a\": 2, \"b\": 2}, {\"a\": 3, \"b\": 3}, {\"a\": 4, \"b\": 4}, {\"a\": 5, \"b\": 5}]}}, {\"mode\": \"vega-lite\"});\n",
       "</script>"
      ],
      "text/plain": [
       "alt.Chart(...)"
      ]
     },
     "execution_count": 2,
     "metadata": {},
     "output_type": "execute_result"
    }
   ],
   "source": [
    "import altair as alt\n",
    "import polars as pl\n",
    "\n",
    "data = pl.DataFrame(\n",
    "    {\n",
    "        \"a\": [1, 2, 3, 4, 5],\n",
    "        \"b\": [1, 2, 3, 4, 5],\n",
    "    }\n",
    ")\n",
    "\n",
    "alt.Chart(data).mark_line().encode(x=\"a\", y=\"b\").properties(width=\"container\")\n"
   ]
  },
  {
   "cell_type": "code",
   "execution_count": 36,
   "metadata": {},
   "outputs": [],
   "source": [
    "import duckdb\n",
    "\n",
    "with duckdb.connect(\"../data/database.duckdb\") as con:\n",
    "    owid_energy_data = con.sql(\"select * from owid_energy_data\").pl()\n",
    "    owid_co2_data = con.sql(\"select * from owid_co2_data\").pl()"
   ]
  },
  {
   "cell_type": "code",
   "execution_count": 38,
   "metadata": {},
   "outputs": [
    {
     "data": {
      "text/html": [
       "<div><style>\n",
       ".dataframe > thead > tr,\n",
       ".dataframe > tbody > tr {\n",
       "  text-align: right;\n",
       "  white-space: pre-wrap;\n",
       "}\n",
       "</style>\n",
       "<small>shape: (10, 130)</small><table border=\"1\" class=\"dataframe\"><thead><tr><th>country</th><th>year</th><th>iso_code</th><th>population</th><th>gdp</th><th>biofuel_cons_change_pct</th><th>biofuel_cons_change_twh</th><th>biofuel_cons_per_capita</th><th>biofuel_consumption</th><th>biofuel_elec_per_capita</th><th>biofuel_electricity</th><th>biofuel_share_elec</th><th>biofuel_share_energy</th><th>carbon_intensity_elec</th><th>coal_cons_change_pct</th><th>coal_cons_change_twh</th><th>coal_cons_per_capita</th><th>coal_consumption</th><th>coal_elec_per_capita</th><th>coal_electricity</th><th>coal_prod_change_pct</th><th>coal_prod_change_twh</th><th>coal_prod_per_capita</th><th>coal_production</th><th>coal_share_elec</th><th>coal_share_energy</th><th>electricity_demand</th><th>electricity_demand_per_capita</th><th>electricity_generation</th><th>electricity_share_energy</th><th>energy_cons_change_pct</th><th>energy_cons_change_twh</th><th>energy_per_capita</th><th>energy_per_gdp</th><th>fossil_cons_change_pct</th><th>fossil_cons_change_twh</th><th>fossil_elec_per_capita</th><th>&hellip;</th><th>other_renewable_consumption</th><th>other_renewable_electricity</th><th>other_renewable_exc_biofuel_electricity</th><th>other_renewables_cons_change_pct</th><th>other_renewables_cons_change_twh</th><th>other_renewables_elec_per_capita</th><th>other_renewables_elec_per_capita_exc_biofuel</th><th>other_renewables_energy_per_capita</th><th>other_renewables_share_elec</th><th>other_renewables_share_elec_exc_biofuel</th><th>other_renewables_share_energy</th><th>per_capita_electricity</th><th>primary_energy_consumption</th><th>renewables_cons_change_pct</th><th>renewables_cons_change_twh</th><th>renewables_consumption</th><th>renewables_elec_per_capita</th><th>renewables_electricity</th><th>renewables_energy_per_capita</th><th>renewables_share_elec</th><th>renewables_share_energy</th><th>solar_cons_change_pct</th><th>solar_cons_change_twh</th><th>solar_consumption</th><th>solar_elec_per_capita</th><th>solar_electricity</th><th>solar_energy_per_capita</th><th>solar_share_elec</th><th>solar_share_energy</th><th>wind_cons_change_pct</th><th>wind_cons_change_twh</th><th>wind_consumption</th><th>wind_elec_per_capita</th><th>wind_electricity</th><th>wind_energy_per_capita</th><th>wind_share_elec</th><th>wind_share_energy</th></tr><tr><td>str</td><td>i64</td><td>str</td><td>i64</td><td>f64</td><td>str</td><td>str</td><td>str</td><td>str</td><td>str</td><td>f64</td><td>f64</td><td>str</td><td>f64</td><td>str</td><td>str</td><td>str</td><td>str</td><td>str</td><td>f64</td><td>f64</td><td>f64</td><td>f64</td><td>f64</td><td>f64</td><td>str</td><td>f64</td><td>str</td><td>f64</td><td>str</td><td>str</td><td>str</td><td>str</td><td>str</td><td>str</td><td>str</td><td>str</td><td>&hellip;</td><td>str</td><td>f64</td><td>f64</td><td>str</td><td>str</td><td>str</td><td>str</td><td>str</td><td>f64</td><td>f64</td><td>str</td><td>str</td><td>str</td><td>str</td><td>str</td><td>str</td><td>str</td><td>f64</td><td>str</td><td>f64</td><td>str</td><td>str</td><td>str</td><td>str</td><td>str</td><td>f64</td><td>str</td><td>f64</td><td>str</td><td>str</td><td>str</td><td>str</td><td>str</td><td>f64</td><td>str</td><td>f64</td><td>str</td></tr></thead><tbody><tr><td>&quot;Central and South America (Shi…</td><td>1930</td><td>null</td><td>null</td><td>null</td><td>null</td><td>null</td><td>null</td><td>null</td><td>null</td><td>null</td><td>null</td><td>null</td><td>null</td><td>null</td><td>null</td><td>null</td><td>null</td><td>null</td><td>null</td><td>-4.062</td><td>-0.699</td><td>null</td><td>16.507</td><td>null</td><td>null</td><td>null</td><td>null</td><td>null</td><td>null</td><td>null</td><td>null</td><td>null</td><td>null</td><td>null</td><td>null</td><td>null</td><td>&hellip;</td><td>null</td><td>null</td><td>null</td><td>null</td><td>null</td><td>null</td><td>null</td><td>null</td><td>null</td><td>null</td><td>null</td><td>null</td><td>null</td><td>null</td><td>null</td><td>null</td><td>null</td><td>null</td><td>null</td><td>null</td><td>null</td><td>null</td><td>null</td><td>null</td><td>null</td><td>null</td><td>null</td><td>null</td><td>null</td><td>null</td><td>null</td><td>null</td><td>null</td><td>null</td><td>null</td><td>null</td><td>null</td></tr><tr><td>&quot;Romania&quot;</td><td>1988</td><td>&quot;ROU&quot;</td><td>22719092</td><td>1.4827e11</td><td>null</td><td>null</td><td>null</td><td>null</td><td>null</td><td>null</td><td>null</td><td>null</td><td>null</td><td>&quot;8.287&quot;</td><td>&quot;15.596&quot;</td><td>&quot;8970.098&quot;</td><td>&quot;203.792&quot;</td><td>null</td><td>null</td><td>10.095</td><td>14.79</td><td>7100.123</td><td>161.308</td><td>null</td><td>&quot;26.428&quot;</td><td>null</td><td>null</td><td>75.322</td><td>&quot;10.148&quot;</td><td>&quot;1.852&quot;</td><td>&quot;14.018&quot;</td><td>&quot;33942.172&quot;</td><td>&quot;5.201&quot;</td><td>&quot;0.479&quot;</td><td>&quot;3.471&quot;</td><td>null</td><td>&hellip;</td><td>&quot;0.000&quot;</td><td>0.0</td><td>null</td><td>null</td><td>&quot;0.000&quot;</td><td>&quot;0.000&quot;</td><td>null</td><td>&quot;0.000&quot;</td><td>0.0</td><td>null</td><td>&quot;0.000&quot;</td><td>&quot;3315.361&quot;</td><td>&quot;771.135&quot;</td><td>&quot;31.823&quot;</td><td>&quot;10.548&quot;</td><td>&quot;43.692&quot;</td><td>&quot;650.378&quot;</td><td>14.776</td><td>&quot;1923.161&quot;</td><td>19.617</td><td>&quot;5.666&quot;</td><td>null</td><td>&quot;0.000&quot;</td><td>&quot;0.000&quot;</td><td>&quot;0.000&quot;</td><td>0.0</td><td>&quot;0.000&quot;</td><td>0.0</td><td>&quot;0.000&quot;</td><td>null</td><td>&quot;0.000&quot;</td><td>&quot;0.000&quot;</td><td>&quot;0.000&quot;</td><td>0.0</td><td>&quot;0.000&quot;</td><td>0.0</td><td>&quot;0.000&quot;</td></tr><tr><td>&quot;North Korea&quot;</td><td>1988</td><td>&quot;PRK&quot;</td><td>20197470</td><td>null</td><td>null</td><td>null</td><td>null</td><td>null</td><td>null</td><td>null</td><td>null</td><td>null</td><td>null</td><td>null</td><td>null</td><td>null</td><td>null</td><td>null</td><td>null</td><td>20.593</td><td>40.87</td><td>11849.694</td><td>239.334</td><td>null</td><td>null</td><td>null</td><td>null</td><td>null</td><td>null</td><td>&quot;17.645&quot;</td><td>&quot;51.338&quot;</td><td>&quot;16947.539&quot;</td><td>null</td><td>null</td><td>null</td><td>null</td><td>&hellip;</td><td>null</td><td>null</td><td>null</td><td>null</td><td>null</td><td>null</td><td>null</td><td>null</td><td>null</td><td>null</td><td>null</td><td>null</td><td>&quot;342.297&quot;</td><td>null</td><td>null</td><td>null</td><td>null</td><td>null</td><td>null</td><td>null</td><td>null</td><td>null</td><td>null</td><td>null</td><td>null</td><td>null</td><td>null</td><td>null</td><td>null</td><td>null</td><td>null</td><td>null</td><td>null</td><td>null</td><td>null</td><td>null</td><td>null</td></tr><tr><td>&quot;Saint Vincent and the Grenadin…</td><td>2007</td><td>&quot;VCT&quot;</td><td>110836</td><td>null</td><td>null</td><td>null</td><td>null</td><td>null</td><td>&quot;0.000&quot;</td><td>0.0</td><td>0.0</td><td>null</td><td>571.429</td><td>null</td><td>null</td><td>null</td><td>null</td><td>&quot;0.000&quot;</td><td>0.0</td><td>null</td><td>0.0</td><td>0.0</td><td>0.0</td><td>0.0</td><td>null</td><td>0.14</td><td>&quot;1263.128&quot;</td><td>0.14</td><td>null</td><td>&quot;1.900&quot;</td><td>&quot;0.019&quot;</td><td>&quot;9295.734&quot;</td><td>null</td><td>null</td><td>null</td><td>&quot;1082.681&quot;</td><td>&hellip;</td><td>null</td><td>0.0</td><td>0.0</td><td>null</td><td>null</td><td>&quot;0.000&quot;</td><td>&quot;0.000&quot;</td><td>null</td><td>0.0</td><td>0.0</td><td>null</td><td>&quot;1263.128&quot;</td><td>&quot;1.030&quot;</td><td>null</td><td>null</td><td>null</td><td>&quot;180.447&quot;</td><td>0.02</td><td>null</td><td>14.286</td><td>null</td><td>null</td><td>null</td><td>null</td><td>&quot;0.000&quot;</td><td>0.0</td><td>null</td><td>0.0</td><td>null</td><td>null</td><td>null</td><td>null</td><td>&quot;0.000&quot;</td><td>0.0</td><td>null</td><td>0.0</td><td>null</td></tr><tr><td>&quot;Denmark&quot;</td><td>1949</td><td>&quot;DNK&quot;</td><td>4228235</td><td>4.3785e10</td><td>null</td><td>null</td><td>null</td><td>null</td><td>null</td><td>null</td><td>null</td><td>null</td><td>null</td><td>null</td><td>null</td><td>null</td><td>null</td><td>null</td><td>null</td><td>-33.333</td><td>-2.052</td><td>970.396</td><td>4.103</td><td>null</td><td>null</td><td>null</td><td>null</td><td>null</td><td>null</td><td>null</td><td>null</td><td>null</td><td>null</td><td>null</td><td>null</td><td>null</td><td>&hellip;</td><td>null</td><td>null</td><td>null</td><td>null</td><td>null</td><td>null</td><td>null</td><td>null</td><td>null</td><td>null</td><td>null</td><td>null</td><td>null</td><td>null</td><td>null</td><td>null</td><td>null</td><td>null</td><td>null</td><td>null</td><td>null</td><td>null</td><td>null</td><td>null</td><td>null</td><td>null</td><td>null</td><td>null</td><td>null</td><td>null</td><td>null</td><td>null</td><td>null</td><td>null</td><td>null</td><td>null</td><td>null</td></tr><tr><td>&quot;Guyana&quot;</td><td>2001</td><td>&quot;GUY&quot;</td><td>759816</td><td>null</td><td>null</td><td>null</td><td>null</td><td>null</td><td>&quot;13.161&quot;</td><td>0.01</td><td>1.087</td><td>null</td><td>652.174</td><td>null</td><td>null</td><td>null</td><td>null</td><td>&quot;0.000&quot;</td><td>0.0</td><td>null</td><td>0.0</td><td>0.0</td><td>0.0</td><td>0.0</td><td>null</td><td>0.92</td><td>&quot;1210.819&quot;</td><td>0.92</td><td>null</td><td>&quot;-2.262&quot;</td><td>&quot;-0.157&quot;</td><td>&quot;8915.736&quot;</td><td>null</td><td>null</td><td>null</td><td>&quot;1197.658&quot;</td><td>&hellip;</td><td>null</td><td>0.01</td><td>0.0</td><td>null</td><td>null</td><td>&quot;13.161&quot;</td><td>&quot;0.000&quot;</td><td>null</td><td>1.087</td><td>0.0</td><td>null</td><td>&quot;1210.819&quot;</td><td>&quot;6.774&quot;</td><td>null</td><td>null</td><td>null</td><td>&quot;13.161&quot;</td><td>0.01</td><td>null</td><td>1.087</td><td>null</td><td>null</td><td>null</td><td>null</td><td>&quot;0.000&quot;</td><td>0.0</td><td>null</td><td>0.0</td><td>null</td><td>null</td><td>null</td><td>null</td><td>&quot;0.000&quot;</td><td>0.0</td><td>null</td><td>0.0</td><td>null</td></tr><tr><td>&quot;India&quot;</td><td>1983</td><td>&quot;IND&quot;</td><td>745826560</td><td>1.2023e12</td><td>null</td><td>null</td><td>null</td><td>null</td><td>null</td><td>null</td><td>null</td><td>null</td><td>null</td><td>&quot;6.151&quot;</td><td>&quot;45.144&quot;</td><td>&quot;1044.543&quot;</td><td>&quot;779.048&quot;</td><td>null</td><td>null</td><td>5.801</td><td>42.592</td><td>1041.579</td><td>776.837</td><td>null</td><td>&quot;55.446&quot;</td><td>null</td><td>null</td><td>null</td><td>null</td><td>&quot;5.165&quot;</td><td>&quot;69.001&quot;</td><td>&quot;1883.883&quot;</td><td>&quot;1.169&quot;</td><td>&quot;6.069&quot;</td><td>&quot;71.764&quot;</td><td>null</td><td>&hellip;</td><td>&quot;0.000&quot;</td><td>0.0</td><td>null</td><td>null</td><td>&quot;0.000&quot;</td><td>&quot;0.000&quot;</td><td>null</td><td>&quot;0.000&quot;</td><td>null</td><td>null</td><td>&quot;0.000&quot;</td><td>null</td><td>&quot;1405.050&quot;</td><td>&quot;-3.643&quot;</td><td>&quot;-5.371&quot;</td><td>&quot;142.064&quot;</td><td>&quot;64.416&quot;</td><td>48.043</td><td>&quot;190.478&quot;</td><td>null</td><td>&quot;10.111&quot;</td><td>null</td><td>&quot;0.000&quot;</td><td>&quot;0.000&quot;</td><td>&quot;0.000&quot;</td><td>0.0</td><td>&quot;0.000&quot;</td><td>null</td><td>&quot;0.000&quot;</td><td>null</td><td>&quot;0.000&quot;</td><td>&quot;0.000&quot;</td><td>&quot;0.000&quot;</td><td>0.0</td><td>&quot;0.000&quot;</td><td>null</td><td>&quot;0.000&quot;</td></tr><tr><td>&quot;Bangladesh&quot;</td><td>1927</td><td>&quot;BGD&quot;</td><td>29434383</td><td>null</td><td>null</td><td>null</td><td>null</td><td>null</td><td>null</td><td>null</td><td>null</td><td>null</td><td>null</td><td>null</td><td>null</td><td>null</td><td>null</td><td>null</td><td>null</td><td>null</td><td>null</td><td>null</td><td>null</td><td>null</td><td>null</td><td>null</td><td>null</td><td>null</td><td>null</td><td>null</td><td>null</td><td>null</td><td>null</td><td>null</td><td>null</td><td>null</td><td>&hellip;</td><td>null</td><td>null</td><td>null</td><td>null</td><td>null</td><td>null</td><td>null</td><td>null</td><td>null</td><td>null</td><td>null</td><td>null</td><td>null</td><td>null</td><td>null</td><td>null</td><td>null</td><td>null</td><td>null</td><td>null</td><td>null</td><td>null</td><td>null</td><td>null</td><td>null</td><td>null</td><td>null</td><td>null</td><td>null</td><td>null</td><td>null</td><td>null</td><td>null</td><td>null</td><td>null</td><td>null</td><td>null</td></tr><tr><td>&quot;Persian Gulf (Shift)&quot;</td><td>1924</td><td>null</td><td>null</td><td>null</td><td>null</td><td>null</td><td>null</td><td>null</td><td>null</td><td>null</td><td>null</td><td>null</td><td>null</td><td>null</td><td>null</td><td>null</td><td>null</td><td>null</td><td>null</td><td>null</td><td>0.0</td><td>null</td><td>0.0</td><td>null</td><td>null</td><td>null</td><td>null</td><td>null</td><td>null</td><td>null</td><td>null</td><td>null</td><td>null</td><td>null</td><td>null</td><td>null</td><td>&hellip;</td><td>null</td><td>null</td><td>null</td><td>null</td><td>null</td><td>null</td><td>null</td><td>null</td><td>null</td><td>null</td><td>null</td><td>null</td><td>null</td><td>null</td><td>null</td><td>null</td><td>null</td><td>null</td><td>null</td><td>null</td><td>null</td><td>null</td><td>null</td><td>null</td><td>null</td><td>null</td><td>null</td><td>null</td><td>null</td><td>null</td><td>null</td><td>null</td><td>null</td><td>null</td><td>null</td><td>null</td><td>null</td></tr><tr><td>&quot;Oman&quot;</td><td>1962</td><td>&quot;OMN&quot;</td><td>557143</td><td>1.0855e9</td><td>null</td><td>null</td><td>null</td><td>null</td><td>null</td><td>null</td><td>null</td><td>null</td><td>null</td><td>null</td><td>null</td><td>null</td><td>null</td><td>null</td><td>null</td><td>null</td><td>null</td><td>null</td><td>null</td><td>null</td><td>null</td><td>null</td><td>null</td><td>null</td><td>null</td><td>null</td><td>null</td><td>null</td><td>null</td><td>null</td><td>null</td><td>null</td><td>&hellip;</td><td>null</td><td>null</td><td>null</td><td>null</td><td>null</td><td>null</td><td>null</td><td>null</td><td>null</td><td>null</td><td>null</td><td>null</td><td>null</td><td>null</td><td>null</td><td>null</td><td>null</td><td>null</td><td>null</td><td>null</td><td>null</td><td>null</td><td>null</td><td>null</td><td>null</td><td>null</td><td>null</td><td>null</td><td>null</td><td>null</td><td>null</td><td>null</td><td>null</td><td>null</td><td>null</td><td>null</td><td>null</td></tr></tbody></table></div>"
      ],
      "text/plain": [
       "shape: (10, 130)\n",
       "┌────────────┬──────┬──────────┬────────────┬───┬────────────┬────────────┬────────────┬───────────┐\n",
       "│ country    ┆ year ┆ iso_code ┆ population ┆ … ┆ wind_elect ┆ wind_energ ┆ wind_share ┆ wind_shar │\n",
       "│ ---        ┆ ---  ┆ ---      ┆ ---        ┆   ┆ ricity     ┆ y_per_capi ┆ _elec      ┆ e_energy  │\n",
       "│ str        ┆ i64  ┆ str      ┆ i64        ┆   ┆ ---        ┆ ta         ┆ ---        ┆ ---       │\n",
       "│            ┆      ┆          ┆            ┆   ┆ f64        ┆ ---        ┆ f64        ┆ str       │\n",
       "│            ┆      ┆          ┆            ┆   ┆            ┆ str        ┆            ┆           │\n",
       "╞════════════╪══════╪══════════╪════════════╪═══╪════════════╪════════════╪════════════╪═══════════╡\n",
       "│ Central    ┆ 1930 ┆ null     ┆ null       ┆ … ┆ null       ┆ null       ┆ null       ┆ null      │\n",
       "│ and South  ┆      ┆          ┆            ┆   ┆            ┆            ┆            ┆           │\n",
       "│ America    ┆      ┆          ┆            ┆   ┆            ┆            ┆            ┆           │\n",
       "│ (Shi…      ┆      ┆          ┆            ┆   ┆            ┆            ┆            ┆           │\n",
       "│ Romania    ┆ 1988 ┆ ROU      ┆ 22719092   ┆ … ┆ 0.0        ┆ 0.000      ┆ 0.0        ┆ 0.000     │\n",
       "│ North      ┆ 1988 ┆ PRK      ┆ 20197470   ┆ … ┆ null       ┆ null       ┆ null       ┆ null      │\n",
       "│ Korea      ┆      ┆          ┆            ┆   ┆            ┆            ┆            ┆           │\n",
       "│ Saint      ┆ 2007 ┆ VCT      ┆ 110836     ┆ … ┆ 0.0        ┆ null       ┆ 0.0        ┆ null      │\n",
       "│ Vincent    ┆      ┆          ┆            ┆   ┆            ┆            ┆            ┆           │\n",
       "│ and the    ┆      ┆          ┆            ┆   ┆            ┆            ┆            ┆           │\n",
       "│ Grenadin…  ┆      ┆          ┆            ┆   ┆            ┆            ┆            ┆           │\n",
       "│ Denmark    ┆ 1949 ┆ DNK      ┆ 4228235    ┆ … ┆ null       ┆ null       ┆ null       ┆ null      │\n",
       "│ Guyana     ┆ 2001 ┆ GUY      ┆ 759816     ┆ … ┆ 0.0        ┆ null       ┆ 0.0        ┆ null      │\n",
       "│ India      ┆ 1983 ┆ IND      ┆ 745826560  ┆ … ┆ 0.0        ┆ 0.000      ┆ null       ┆ 0.000     │\n",
       "│ Bangladesh ┆ 1927 ┆ BGD      ┆ 29434383   ┆ … ┆ null       ┆ null       ┆ null       ┆ null      │\n",
       "│ Persian    ┆ 1924 ┆ null     ┆ null       ┆ … ┆ null       ┆ null       ┆ null       ┆ null      │\n",
       "│ Gulf       ┆      ┆          ┆            ┆   ┆            ┆            ┆            ┆           │\n",
       "│ (Shift)    ┆      ┆          ┆            ┆   ┆            ┆            ┆            ┆           │\n",
       "│ Oman       ┆ 1962 ┆ OMN      ┆ 557143     ┆ … ┆ null       ┆ null       ┆ null       ┆ null      │\n",
       "└────────────┴──────┴──────────┴────────────┴───┴────────────┴────────────┴────────────┴───────────┘"
      ]
     },
     "execution_count": 38,
     "metadata": {},
     "output_type": "execute_result"
    }
   ],
   "source": [
    "owid_energy_data.sample(10)"
   ]
  },
  {
   "cell_type": "code",
   "execution_count": 39,
   "metadata": {},
   "outputs": [
    {
     "data": {
      "text/html": [
       "<div><style>\n",
       ".dataframe > thead > tr,\n",
       ".dataframe > tbody > tr {\n",
       "  text-align: right;\n",
       "  white-space: pre-wrap;\n",
       "}\n",
       "</style>\n",
       "<small>shape: (10, 79)</small><table border=\"1\" class=\"dataframe\"><thead><tr><th>country</th><th>year</th><th>iso_code</th><th>population</th><th>gdp</th><th>cement_co2</th><th>cement_co2_per_capita</th><th>co2</th><th>co2_growth_abs</th><th>co2_growth_prct</th><th>co2_including_luc</th><th>co2_including_luc_growth_abs</th><th>co2_including_luc_growth_prct</th><th>co2_including_luc_per_capita</th><th>co2_including_luc_per_gdp</th><th>co2_including_luc_per_unit_energy</th><th>co2_per_capita</th><th>co2_per_gdp</th><th>co2_per_unit_energy</th><th>coal_co2</th><th>coal_co2_per_capita</th><th>consumption_co2</th><th>consumption_co2_per_capita</th><th>consumption_co2_per_gdp</th><th>cumulative_cement_co2</th><th>cumulative_co2</th><th>cumulative_co2_including_luc</th><th>cumulative_coal_co2</th><th>cumulative_flaring_co2</th><th>cumulative_gas_co2</th><th>cumulative_luc_co2</th><th>cumulative_oil_co2</th><th>cumulative_other_co2</th><th>energy_per_capita</th><th>energy_per_gdp</th><th>flaring_co2</th><th>flaring_co2_per_capita</th><th>&hellip;</th><th>land_use_change_co2_per_capita</th><th>methane</th><th>methane_per_capita</th><th>nitrous_oxide</th><th>nitrous_oxide_per_capita</th><th>oil_co2</th><th>oil_co2_per_capita</th><th>other_co2_per_capita</th><th>other_industry_co2</th><th>primary_energy_consumption</th><th>share_global_cement_co2</th><th>share_global_co2</th><th>share_global_co2_including_luc</th><th>share_global_coal_co2</th><th>share_global_cumulative_cement_co2</th><th>share_global_cumulative_co2</th><th>share_global_cumulative_co2_including_luc</th><th>share_global_cumulative_coal_co2</th><th>share_global_cumulative_flaring_co2</th><th>share_global_cumulative_gas_co2</th><th>share_global_cumulative_luc_co2</th><th>share_global_cumulative_oil_co2</th><th>share_global_cumulative_other_co2</th><th>share_global_flaring_co2</th><th>share_global_gas_co2</th><th>share_global_luc_co2</th><th>share_global_oil_co2</th><th>share_global_other_co2</th><th>share_of_temperature_change_from_ghg</th><th>temperature_change_from_ch4</th><th>temperature_change_from_co2</th><th>temperature_change_from_ghg</th><th>temperature_change_from_n2o</th><th>total_ghg</th><th>total_ghg_excluding_lucf</th><th>trade_co2</th><th>trade_co2_share</th></tr><tr><td>str</td><td>i64</td><td>str</td><td>i64</td><td>str</td><td>f64</td><td>f64</td><td>f64</td><td>str</td><td>str</td><td>f64</td><td>str</td><td>str</td><td>f64</td><td>str</td><td>str</td><td>f64</td><td>str</td><td>str</td><td>f64</td><td>f64</td><td>str</td><td>str</td><td>str</td><td>f64</td><td>f64</td><td>f64</td><td>f64</td><td>f64</td><td>f64</td><td>f64</td><td>f64</td><td>str</td><td>str</td><td>str</td><td>f64</td><td>f64</td><td>&hellip;</td><td>f64</td><td>str</td><td>str</td><td>str</td><td>str</td><td>f64</td><td>f64</td><td>str</td><td>str</td><td>str</td><td>f64</td><td>f64</td><td>f64</td><td>f64</td><td>f64</td><td>f64</td><td>f64</td><td>f64</td><td>str</td><td>f64</td><td>f64</td><td>f64</td><td>str</td><td>str</td><td>f64</td><td>f64</td><td>f64</td><td>str</td><td>f64</td><td>f64</td><td>f64</td><td>f64</td><td>f64</td><td>str</td><td>str</td><td>str</td><td>str</td></tr></thead><tbody><tr><td>&quot;Congo&quot;</td><td>1921</td><td>&quot;COG&quot;</td><td>532626</td><td>null</td><td>null</td><td>null</td><td>null</td><td>null</td><td>null</td><td>null</td><td>null</td><td>null</td><td>null</td><td>null</td><td>null</td><td>null</td><td>null</td><td>null</td><td>null</td><td>null</td><td>null</td><td>null</td><td>null</td><td>null</td><td>null</td><td>null</td><td>null</td><td>null</td><td>null</td><td>414.558</td><td>null</td><td>null</td><td>null</td><td>null</td><td>null</td><td>null</td><td>&hellip;</td><td>26.513</td><td>null</td><td>null</td><td>null</td><td>null</td><td>null</td><td>null</td><td>null</td><td>null</td><td>null</td><td>null</td><td>null</td><td>null</td><td>null</td><td>null</td><td>null</td><td>null</td><td>null</td><td>null</td><td>null</td><td>0.158</td><td>null</td><td>null</td><td>null</td><td>null</td><td>0.298</td><td>null</td><td>null</td><td>0.059</td><td>0.0</td><td>0.0</td><td>0.0</td><td>0.0</td><td>null</td><td>null</td><td>null</td><td>null</td></tr><tr><td>&quot;Senegal&quot;</td><td>1878</td><td>&quot;SEN&quot;</td><td>1157821</td><td>null</td><td>null</td><td>null</td><td>null</td><td>null</td><td>null</td><td>null</td><td>null</td><td>null</td><td>null</td><td>null</td><td>null</td><td>null</td><td>null</td><td>null</td><td>null</td><td>null</td><td>null</td><td>null</td><td>null</td><td>null</td><td>null</td><td>null</td><td>null</td><td>null</td><td>null</td><td>23.171</td><td>null</td><td>null</td><td>null</td><td>null</td><td>null</td><td>null</td><td>&hellip;</td><td>0.752</td><td>null</td><td>null</td><td>null</td><td>null</td><td>null</td><td>null</td><td>null</td><td>null</td><td>null</td><td>null</td><td>null</td><td>null</td><td>null</td><td>null</td><td>null</td><td>null</td><td>null</td><td>null</td><td>null</td><td>0.028</td><td>null</td><td>null</td><td>null</td><td>null</td><td>0.026</td><td>null</td><td>null</td><td>0.022</td><td>0.0</td><td>0.0</td><td>0.0</td><td>0.0</td><td>null</td><td>null</td><td>null</td><td>null</td></tr><tr><td>&quot;Bosnia and Herzegovina&quot;</td><td>1882</td><td>&quot;BIH&quot;</td><td>1402268</td><td>null</td><td>null</td><td>null</td><td>null</td><td>null</td><td>null</td><td>null</td><td>null</td><td>null</td><td>null</td><td>null</td><td>null</td><td>null</td><td>null</td><td>null</td><td>null</td><td>null</td><td>null</td><td>null</td><td>null</td><td>null</td><td>null</td><td>null</td><td>null</td><td>null</td><td>null</td><td>182.219</td><td>null</td><td>null</td><td>null</td><td>null</td><td>null</td><td>null</td><td>&hellip;</td><td>5.534</td><td>null</td><td>null</td><td>null</td><td>null</td><td>null</td><td>null</td><td>null</td><td>null</td><td>null</td><td>null</td><td>null</td><td>null</td><td>null</td><td>null</td><td>null</td><td>null</td><td>null</td><td>null</td><td>null</td><td>0.188</td><td>null</td><td>null</td><td>null</td><td>null</td><td>0.228</td><td>null</td><td>null</td><td>0.071</td><td>0.0</td><td>0.0</td><td>0.0</td><td>0.0</td><td>null</td><td>null</td><td>null</td><td>null</td></tr><tr><td>&quot;Russia&quot;</td><td>1874</td><td>&quot;RUS&quot;</td><td>51253646</td><td>null</td><td>null</td><td>null</td><td>3.738</td><td>&quot;0.658&quot;</td><td>&quot;21.382&quot;</td><td>711.199</td><td>&quot;16.503&quot;</td><td>&quot;2.376&quot;</td><td>13.876</td><td>null</td><td>null</td><td>0.073</td><td>null</td><td>null</td><td>3.569</td><td>0.07</td><td>null</td><td>null</td><td>null</td><td>null</td><td>27.005</td><td>11835.536</td><td>26.362</td><td>0.0</td><td>0.0</td><td>15538.038</td><td>0.643</td><td>null</td><td>null</td><td>null</td><td>0.0</td><td>0.0</td><td>&hellip;</td><td>13.803</td><td>null</td><td>null</td><td>null</td><td>null</td><td>0.169</td><td>0.003</td><td>null</td><td>null</td><td>null</td><td>null</td><td>0.599</td><td>18.947</td><td>0.578</td><td>null</td><td>0.189</td><td>14.75</td><td>0.185</td><td>null</td><td>null</td><td>22.023</td><td>1.705</td><td>null</td><td>null</td><td>null</td><td>22.607</td><td>2.689</td><td>null</td><td>10.478</td><td>0.001</td><td>0.004</td><td>0.005</td><td>0.0</td><td>null</td><td>null</td><td>null</td><td>null</td></tr><tr><td>&quot;Guinea&quot;</td><td>1878</td><td>&quot;GIN&quot;</td><td>1284452</td><td>null</td><td>0.0</td><td>0.0</td><td>0.0</td><td>&quot;0.000&quot;</td><td>null</td><td>7.365</td><td>&quot;-0.692&quot;</td><td>&quot;-8.594&quot;</td><td>5.734</td><td>null</td><td>null</td><td>0.0</td><td>null</td><td>null</td><td>null</td><td>null</td><td>null</td><td>null</td><td>null</td><td>0.0</td><td>0.0</td><td>1393.219</td><td>null</td><td>null</td><td>null</td><td>1393.219</td><td>null</td><td>null</td><td>null</td><td>null</td><td>null</td><td>null</td><td>&hellip;</td><td>5.734</td><td>null</td><td>null</td><td>null</td><td>null</td><td>null</td><td>null</td><td>null</td><td>null</td><td>null</td><td>null</td><td>0.0</td><td>0.184</td><td>null</td><td>null</td><td>0.0</td><td>1.453</td><td>null</td><td>null</td><td>null</td><td>1.67</td><td>null</td><td>null</td><td>null</td><td>null</td><td>0.223</td><td>null</td><td>null</td><td>0.471</td><td>0.0</td><td>0.0</td><td>0.0</td><td>0.0</td><td>null</td><td>null</td><td>null</td><td>null</td></tr><tr><td>&quot;Cambodia&quot;</td><td>1913</td><td>&quot;KHM&quot;</td><td>2990127</td><td>null</td><td>null</td><td>null</td><td>null</td><td>null</td><td>null</td><td>null</td><td>null</td><td>null</td><td>null</td><td>null</td><td>null</td><td>null</td><td>null</td><td>null</td><td>null</td><td>null</td><td>null</td><td>null</td><td>null</td><td>null</td><td>null</td><td>null</td><td>null</td><td>null</td><td>null</td><td>310.504</td><td>null</td><td>null</td><td>null</td><td>null</td><td>null</td><td>null</td><td>&hellip;</td><td>3.247</td><td>null</td><td>null</td><td>null</td><td>null</td><td>null</td><td>null</td><td>null</td><td>null</td><td>null</td><td>null</td><td>null</td><td>null</td><td>null</td><td>null</td><td>null</td><td>null</td><td>null</td><td>null</td><td>null</td><td>0.137</td><td>null</td><td>null</td><td>null</td><td>null</td><td>0.214</td><td>null</td><td>null</td><td>0.113</td><td>0.0</td><td>0.0</td><td>0.0</td><td>0.0</td><td>null</td><td>null</td><td>null</td><td>null</td></tr><tr><td>&quot;Cyprus&quot;</td><td>1940</td><td>&quot;CYP&quot;</td><td>444169</td><td>null</td><td>null</td><td>null</td><td>null</td><td>null</td><td>null</td><td>null</td><td>null</td><td>null</td><td>null</td><td>null</td><td>null</td><td>null</td><td>null</td><td>null</td><td>null</td><td>null</td><td>null</td><td>null</td><td>null</td><td>null</td><td>null</td><td>null</td><td>null</td><td>null</td><td>null</td><td>85.967</td><td>null</td><td>null</td><td>null</td><td>null</td><td>null</td><td>null</td><td>&hellip;</td><td>5.219</td><td>null</td><td>null</td><td>null</td><td>null</td><td>null</td><td>null</td><td>null</td><td>null</td><td>null</td><td>null</td><td>null</td><td>null</td><td>null</td><td>null</td><td>null</td><td>null</td><td>null</td><td>null</td><td>null</td><td>0.024</td><td>null</td><td>null</td><td>null</td><td>null</td><td>0.043</td><td>null</td><td>null</td><td>0.008</td><td>0.0</td><td>0.0</td><td>0.0</td><td>0.0</td><td>null</td><td>null</td><td>null</td><td>null</td></tr><tr><td>&quot;Mongolia&quot;</td><td>1882</td><td>&quot;MNG&quot;</td><td>678082</td><td>null</td><td>null</td><td>null</td><td>null</td><td>null</td><td>null</td><td>null</td><td>null</td><td>null</td><td>null</td><td>null</td><td>null</td><td>null</td><td>null</td><td>null</td><td>null</td><td>null</td><td>null</td><td>null</td><td>null</td><td>null</td><td>null</td><td>null</td><td>null</td><td>null</td><td>null</td><td>348.056</td><td>null</td><td>null</td><td>null</td><td>null</td><td>null</td><td>null</td><td>&hellip;</td><td>20.528</td><td>null</td><td>null</td><td>null</td><td>null</td><td>null</td><td>null</td><td>null</td><td>null</td><td>null</td><td>null</td><td>null</td><td>null</td><td>null</td><td>null</td><td>null</td><td>null</td><td>null</td><td>null</td><td>null</td><td>0.359</td><td>null</td><td>null</td><td>null</td><td>null</td><td>0.409</td><td>null</td><td>null</td><td>0.389</td><td>0.0</td><td>0.0</td><td>0.0</td><td>0.0</td><td>null</td><td>null</td><td>null</td><td>null</td></tr><tr><td>&quot;Lower-middle-income countries&quot;</td><td>1892</td><td>null</td><td>499864649</td><td>null</td><td>0.0</td><td>0.0</td><td>12.704</td><td>&quot;1.088&quot;</td><td>&quot;9.365&quot;</td><td>394.971</td><td>&quot;78.297&quot;</td><td>&quot;24.725&quot;</td><td>0.847</td><td>&quot;1.512&quot;</td><td>null</td><td>0.027</td><td>&quot;0.049&quot;</td><td>null</td><td>9.492</td><td>0.02</td><td>null</td><td>null</td><td>null</td><td>0.0</td><td>134.43</td><td>11436.309</td><td>111.451</td><td>0.0</td><td>0.0</td><td>28804.719</td><td>22.979</td><td>null</td><td>null</td><td>null</td><td>0.0</td><td>0.0</td><td>&hellip;</td><td>1.77</td><td>null</td><td>null</td><td>null</td><td>null</td><td>3.211</td><td>0.007</td><td>null</td><td>null</td><td>null</td><td>0.0</td><td>0.926</td><td>7.354</td><td>0.717</td><td>0.0</td><td>0.42</td><td>7.111</td><td>0.354</td><td>null</td><td>0.0</td><td>21.592</td><td>5.727</td><td>null</td><td>null</td><td>0.0</td><td>20.646</td><td>7.984</td><td>null</td><td>14.693</td><td>0.005</td><td>0.008</td><td>0.015</td><td>0.001</td><td>null</td><td>null</td><td>null</td><td>null</td></tr><tr><td>&quot;Taiwan&quot;</td><td>1907</td><td>&quot;TWN&quot;</td><td>3088833</td><td>&quot;3635436032.000&quot;</td><td>0.0</td><td>0.0</td><td>0.359</td><td>&quot;0.084&quot;</td><td>&quot;30.667&quot;</td><td>null</td><td>null</td><td>null</td><td>null</td><td>null</td><td>null</td><td>0.116</td><td>&quot;0.099&quot;</td><td>null</td><td>0.359</td><td>0.116</td><td>null</td><td>null</td><td>null</td><td>0.0</td><td>2.114</td><td>null</td><td>2.114</td><td>0.0</td><td>0.0</td><td>null</td><td>0.0</td><td>null</td><td>null</td><td>null</td><td>0.0</td><td>0.0</td><td>&hellip;</td><td>null</td><td>null</td><td>null</td><td>null</td><td>null</td><td>0.0</td><td>0.0</td><td>null</td><td>null</td><td>null</td><td>0.0</td><td>0.012</td><td>null</td><td>0.013</td><td>0.0</td><td>0.003</td><td>null</td><td>0.004</td><td>null</td><td>0.0</td><td>null</td><td>0.0</td><td>null</td><td>null</td><td>0.0</td><td>null</td><td>0.0</td><td>null</td><td>0.017</td><td>0.0</td><td>0.0</td><td>0.0</td><td>0.0</td><td>null</td><td>null</td><td>null</td><td>null</td></tr></tbody></table></div>"
      ],
      "text/plain": [
       "shape: (10, 79)\n",
       "┌─────────────┬──────┬──────────┬────────────┬───┬───────────┬────────────┬───────────┬────────────┐\n",
       "│ country     ┆ year ┆ iso_code ┆ population ┆ … ┆ total_ghg ┆ total_ghg_ ┆ trade_co2 ┆ trade_co2_ │\n",
       "│ ---         ┆ ---  ┆ ---      ┆ ---        ┆   ┆ ---       ┆ excluding_ ┆ ---       ┆ share      │\n",
       "│ str         ┆ i64  ┆ str      ┆ i64        ┆   ┆ str       ┆ lucf       ┆ str       ┆ ---        │\n",
       "│             ┆      ┆          ┆            ┆   ┆           ┆ ---        ┆           ┆ str        │\n",
       "│             ┆      ┆          ┆            ┆   ┆           ┆ str        ┆           ┆            │\n",
       "╞═════════════╪══════╪══════════╪════════════╪═══╪═══════════╪════════════╪═══════════╪════════════╡\n",
       "│ Congo       ┆ 1921 ┆ COG      ┆ 532626     ┆ … ┆ null      ┆ null       ┆ null      ┆ null       │\n",
       "│ Senegal     ┆ 1878 ┆ SEN      ┆ 1157821    ┆ … ┆ null      ┆ null       ┆ null      ┆ null       │\n",
       "│ Bosnia and  ┆ 1882 ┆ BIH      ┆ 1402268    ┆ … ┆ null      ┆ null       ┆ null      ┆ null       │\n",
       "│ Herzegovina ┆      ┆          ┆            ┆   ┆           ┆            ┆           ┆            │\n",
       "│ Russia      ┆ 1874 ┆ RUS      ┆ 51253646   ┆ … ┆ null      ┆ null       ┆ null      ┆ null       │\n",
       "│ Guinea      ┆ 1878 ┆ GIN      ┆ 1284452    ┆ … ┆ null      ┆ null       ┆ null      ┆ null       │\n",
       "│ Cambodia    ┆ 1913 ┆ KHM      ┆ 2990127    ┆ … ┆ null      ┆ null       ┆ null      ┆ null       │\n",
       "│ Cyprus      ┆ 1940 ┆ CYP      ┆ 444169     ┆ … ┆ null      ┆ null       ┆ null      ┆ null       │\n",
       "│ Mongolia    ┆ 1882 ┆ MNG      ┆ 678082     ┆ … ┆ null      ┆ null       ┆ null      ┆ null       │\n",
       "│ Lower-middl ┆ 1892 ┆ null     ┆ 499864649  ┆ … ┆ null      ┆ null       ┆ null      ┆ null       │\n",
       "│ e-income    ┆      ┆          ┆            ┆   ┆           ┆            ┆           ┆            │\n",
       "│ countries   ┆      ┆          ┆            ┆   ┆           ┆            ┆           ┆            │\n",
       "│ Taiwan      ┆ 1907 ┆ TWN      ┆ 3088833    ┆ … ┆ null      ┆ null       ┆ null      ┆ null       │\n",
       "└─────────────┴──────┴──────────┴────────────┴───┴───────────┴────────────┴───────────┴────────────┘"
      ]
     },
     "execution_count": 39,
     "metadata": {},
     "output_type": "execute_result"
    }
   ],
   "source": [
    "owid_co2_data.sample(10)"
   ]
  },
  {
   "cell_type": "code",
   "execution_count": 40,
   "metadata": {},
   "outputs": [
    {
     "name": "stdout",
     "output_type": "stream",
     "text": [
      "Shape of joined data: (16086, 207)\n",
      "\n",
      "Sample of joined data:\n",
      "shape: (5, 207)\n",
      "┌─────────────┬──────┬──────────┬────────────┬───┬───────────┬────────────┬───────────┬────────────┐\n",
      "│ country     ┆ year ┆ iso_code ┆ population ┆ … ┆ total_ghg ┆ total_ghg_ ┆ trade_co2 ┆ trade_co2_ │\n",
      "│ ---         ┆ ---  ┆ ---      ┆ ---        ┆   ┆ ---       ┆ excluding_ ┆ ---       ┆ share      │\n",
      "│ str         ┆ i64  ┆ str      ┆ i64        ┆   ┆ str       ┆ lucf       ┆ str       ┆ ---        │\n",
      "│             ┆      ┆          ┆            ┆   ┆           ┆ ---        ┆           ┆ str        │\n",
      "│             ┆      ┆          ┆            ┆   ┆           ┆ str        ┆           ┆            │\n",
      "╞═════════════╪══════╪══════════╪════════════╪═══╪═══════════╪════════════╪═══════════╪════════════╡\n",
      "│ Sao Tome    ┆ 2005 ┆ STP      ┆ 161697     ┆ … ┆ 0.110     ┆ 0.100      ┆ null      ┆ null       │\n",
      "│ and         ┆      ┆          ┆            ┆   ┆           ┆            ┆           ┆            │\n",
      "│ Principe    ┆      ┆          ┆            ┆   ┆           ┆            ┆           ┆            │\n",
      "│ Venezuela   ┆ 1967 ┆ VEN      ┆ 10338851   ┆ … ┆ null      ┆ null       ┆ null      ┆ null       │\n",
      "│ Nicaragua   ┆ 2008 ┆ NIC      ┆ 5687752    ┆ … ┆ 37.840    ┆ 14.200     ┆ 1.291     ┆ 29.565     │\n",
      "│ Argentina   ┆ 1930 ┆ ARG      ┆ 11726853   ┆ … ┆ null      ┆ null       ┆ null      ┆ null       │\n",
      "│ Cyprus      ┆ 1997 ┆ CYP      ┆ 897476     ┆ … ┆ 7.210     ┆ 7.280      ┆ 1.910     ┆ 30.329     │\n",
      "└─────────────┴──────┴──────────┴────────────┴───┴───────────┴────────────┴───────────┴────────────┘\n"
     ]
    }
   ],
   "source": [
    "# Join the energy and CO2 datasets on country and year\n",
    "joined_data = owid_energy_data.join(\n",
    "    owid_co2_data, on=[\"iso_code\", \"year\"], how=\"inner\", suffix=\"_co2\"\n",
    ")\n",
    "\n",
    "print(f\"Shape of joined data: {joined_data.shape}\")\n",
    "print(\"\\nSample of joined data:\")\n",
    "print(joined_data.sample(5))\n"
   ]
  }
 ],
 "metadata": {
  "kernelspec": {
   "display_name": ".venv",
   "language": "python",
   "name": "python3"
  },
  "language_info": {
   "codemirror_mode": {
    "name": "ipython",
    "version": 3
   },
   "file_extension": ".py",
   "mimetype": "text/x-python",
   "name": "python",
   "nbconvert_exporter": "python",
   "pygments_lexer": "ipython3",
   "version": "3.13.0"
  }
 },
 "nbformat": 4,
 "nbformat_minor": 2
}
